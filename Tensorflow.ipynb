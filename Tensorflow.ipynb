{
 "cells": [
  {
   "cell_type": "code",
   "execution_count": 14,
   "id": "7ff0b9c9-2e9b-487f-a0b2-e81efb87371c",
   "metadata": {},
   "outputs": [],
   "source": [
    "!pip install tensorflow --quiet"
   ]
  },
  {
   "cell_type": "code",
   "execution_count": 15,
   "id": "41d410d0-a0fb-43f9-8f35-55601020944b",
   "metadata": {},
   "outputs": [
    {
     "name": "stdout",
     "output_type": "stream",
     "text": [
      "[1. 2. 3. 4. 5.]\n"
     ]
    }
   ],
   "source": [
    "import tensorflow as tf\n",
    "\n",
    "tensor_known=tf.constant([1,2,3,4,5],dtype=tf.float32)\n",
    "print(tensor_known.numpy())"
   ]
  },
  {
   "cell_type": "code",
   "execution_count": 16,
   "id": "92b9c096-7e9b-460e-bf62-b6901de1a13f",
   "metadata": {},
   "outputs": [
    {
     "name": "stdout",
     "output_type": "stream",
     "text": [
      "\n",
      "Tensor with random values:\n",
      "[0.38614377 0.8896434  1.6498736  0.36141157 0.4035065 ]\n"
     ]
    }
   ],
   "source": [
    "tensor_random = tf.random.normal(shape=(5,), dtype=tf.float32)\n",
    "print(\"\\nTensor with random values:\")\n",
    "print(tensor_random.numpy())"
   ]
  },
  {
   "cell_type": "code",
   "execution_count": 17,
   "metadata": {},
   "outputs": [
    {
     "name": "stdout",
     "output_type": "stream",
     "text": [
      "\n",
      "Tensor after addition:\n",
      "[11. 12. 13. 14. 15.]\n"
     ]
    }
   ],
   "source": [
    "tensor_added = tensor_known + 10\n",
    "print(\"\\nTensor after addition:\")\n",
    "print(tensor_added.numpy())\n"
   ]
  },
  {
   "cell_type": "code",
   "execution_count": 18,
   "metadata": {},
   "outputs": [
    {
     "name": "stdout",
     "output_type": "stream",
     "text": [
      "\n",
      "Tensor after element-wise multiplication:\n",
      "[ 2.  4.  6.  8. 10.]\n"
     ]
    }
   ],
   "source": [
    "tensor_multiplied = tensor_known * 2\n",
    "print(\"\\nTensor after element-wise multiplication:\")\n",
    "print(tensor_multiplied.numpy())"
   ]
  }
 ],
 "metadata": {
  "kernelspec": {
   "display_name": "Python 3 (ipykernel)",
   "language": "python",
   "name": "python3"
  },
  "language_info": {
   "codemirror_mode": {
    "name": "ipython",
    "version": 3
   },
   "file_extension": ".py",
   "mimetype": "text/x-python",
   "name": "python",
   "nbconvert_exporter": "python",
   "pygments_lexer": "ipython3",
   "version": "3.10.11"
  }
 },
 "nbformat": 4,
 "nbformat_minor": 5
}
